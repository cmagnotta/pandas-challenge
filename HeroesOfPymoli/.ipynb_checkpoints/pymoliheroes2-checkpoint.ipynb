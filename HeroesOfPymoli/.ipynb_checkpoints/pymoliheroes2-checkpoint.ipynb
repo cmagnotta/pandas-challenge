{
 "cells": [
  {
   "cell_type": "code",
   "execution_count": 3,
   "metadata": {},
   "outputs": [],
   "source": [
    "import pandas as pd\n",
    "\n",
    "newfile = '/Users/christinemagnotta/pandas-challenge/HeroesOfPymoli/purchase_data.csv'\n",
    "pymoliHero = pd.read_csv(newfile)"
   ]
  },
  {
   "cell_type": "code",
   "execution_count": 4,
   "metadata": {},
   "outputs": [],
   "source": [
    "pymoliHero = pd.DataFrame(data=pymoliHero) #this is creating a new dataframe class, \n",
    "playersData = pymoliHero.loc[:,\"SN\"]"
   ]
  },
  {
   "cell_type": "code",
   "execution_count": 5,
   "metadata": {},
   "outputs": [
    {
     "data": {
      "text/plain": [
       "0            Lisim78\n",
       "1        Lisovynya38\n",
       "2         Ithergue48\n",
       "3      Chamassasya86\n",
       "4          Iskosia90\n",
       "           ...      \n",
       "773           Hala31\n",
       "774       Jiskjask80\n",
       "775       Aethedru70\n",
       "777       Yathecal72\n",
       "778          Sisur91\n",
       "Name: SN, Length: 576, dtype: object"
      ]
     },
     "execution_count": 5,
     "metadata": {},
     "output_type": "execute_result"
    }
   ],
   "source": [
    "playersData.drop_duplicates()"
   ]
  },
  {
   "cell_type": "code",
   "execution_count": 6,
   "metadata": {},
   "outputs": [
    {
     "data": {
      "text/plain": [
       "780"
      ]
     },
     "execution_count": 6,
     "metadata": {},
     "output_type": "execute_result"
    }
   ],
   "source": [
    "playersData.count()  #numbers of players, minus duplicates"
   ]
  },
  {
   "cell_type": "code",
   "execution_count": 7,
   "metadata": {},
   "outputs": [],
   "source": [
    "playersGen = pymoliHero.loc[:, \"Gender\"]"
   ]
  },
  {
   "cell_type": "code",
   "execution_count": 8,
   "metadata": {},
   "outputs": [
    {
     "data": {
      "text/plain": [
       "<bound method NDFrame.describe of 0        Male\n",
       "1        Male\n",
       "2        Male\n",
       "3        Male\n",
       "4        Male\n",
       "        ...  \n",
       "775    Female\n",
       "776      Male\n",
       "777      Male\n",
       "778      Male\n",
       "779      Male\n",
       "Name: Gender, Length: 780, dtype: object>"
      ]
     },
     "execution_count": 8,
     "metadata": {},
     "output_type": "execute_result"
    }
   ],
   "source": [
    "playersGen.describe"
   ]
  },
  {
   "cell_type": "code",
   "execution_count": null,
   "metadata": {},
   "outputs": [],
   "source": [
    "playersData.describe"
   ]
  },
  {
   "cell_type": "code",
   "execution_count": null,
   "metadata": {},
   "outputs": [],
   "source": [
    "playersData.describe()"
   ]
  },
  {
   "cell_type": "code",
   "execution_count": null,
   "metadata": {},
   "outputs": [],
   "source": [
    "playersData.head()"
   ]
  },
  {
   "cell_type": "code",
   "execution_count": null,
   "metadata": {},
   "outputs": [],
   "source": [
    "playersData.count()"
   ]
  },
  {
   "cell_type": "code",
   "execution_count": null,
   "metadata": {},
   "outputs": [],
   "source": [
    "playersPurchase = pd.DataFrame(pymoliHero)"
   ]
  },
  {
   "cell_type": "code",
   "execution_count": null,
   "metadata": {},
   "outputs": [],
   "source": [
    "playersPurchase.head()"
   ]
  },
  {
   "cell_type": "code",
   "execution_count": null,
   "metadata": {},
   "outputs": [],
   "source": [
    "playersPurchase.set_index([\"Item ID\", \"Item Name\", \"Price\"]).count() #check out data, sorted by Item ID and name, and then by age and gender...and alsos I forgot the parentheses."
   ]
  },
  {
   "cell_type": "code",
   "execution_count": null,
   "metadata": {},
   "outputs": [],
   "source": [
    "playersPurchase.set_index([\"Item ID\", \"Item Name\", \"Price\"]).count() #hmm. this is me counting the items, by item ID, price and name."
   ]
  },
  {
   "cell_type": "code",
   "execution_count": null,
   "metadata": {},
   "outputs": [],
   "source": [
    "playersPurchase.set_index([\"Item ID\", \"Item Name\", \"Price\"]).count"
   ]
  },
  {
   "cell_type": "code",
   "execution_count": null,
   "metadata": {},
   "outputs": [],
   "source": [
    "playersPurchase.set_index([\"Item ID\"]).drop_duplicates()"
   ]
  },
  {
   "cell_type": "code",
   "execution_count": null,
   "metadata": {},
   "outputs": [],
   "source": [
    "playersPurchase.set_index([\"Item ID\"]).count()"
   ]
  },
  {
   "cell_type": "code",
   "execution_count": null,
   "metadata": {},
   "outputs": [],
   "source": [
    "uniqueItems = playersPurchase.set_index([\"Item ID\"]).drop_duplicates()  #I am trying to count unique items. It seems to be giving me the same values.\n",
    "uniqueItems.count()"
   ]
  },
  {
   "cell_type": "code",
   "execution_count": null,
   "metadata": {},
   "outputs": [],
   "source": [
    "uniqueItems = playersPurchase.set_index([\"Item ID\"]).unique()"
   ]
  },
  {
   "cell_type": "code",
   "execution_count": null,
   "metadata": {},
   "outputs": [],
   "source": [
    "uniquePlayerItems = playersPurchase.set_index([\"Item Name\"]).drop_duplicates() #trying to get unique item count. didn't work"
   ]
  },
  {
   "cell_type": "code",
   "execution_count": null,
   "metadata": {},
   "outputs": [],
   "source": [
    "uniquePlayerItems.count() "
   ]
  },
  {
   "cell_type": "code",
   "execution_count": null,
   "metadata": {},
   "outputs": [],
   "source": [
    "playersPurchase.set_index([\"Price\"]).sum  #I'm trying to sum the price. instead I am indexing by it."
   ]
  },
  {
   "cell_type": "code",
   "execution_count": null,
   "metadata": {},
   "outputs": [],
   "source": [
    "playersPurchase.loc[\"Price\"].sum"
   ]
  },
  {
   "cell_type": "code",
   "execution_count": null,
   "metadata": {},
   "outputs": [],
   "source": [
    "playersData.sum(level='Price')  #I know there are 576 unique players. now I want to find a sum of the price."
   ]
  },
  {
   "cell_type": "code",
   "execution_count": null,
   "metadata": {},
   "outputs": [],
   "source": [
    "uniquePlayerItems = playersPurchase(axis=\"Price\")"
   ]
  },
  {
   "cell_type": "code",
   "execution_count": null,
   "metadata": {},
   "outputs": [],
   "source": [
    "uniquePlayerItems.sum()\n"
   ]
  },
  {
   "cell_type": "code",
   "execution_count": null,
   "metadata": {},
   "outputs": [],
   "source": [
    "#okay. this got way too messy, so I redid this as\n",
    "\n",
    "\n",
    "#Purchasing analysis\n",
    "\n",
    "import pandas as pd\n",
    "\n",
    "newfile = '/Users/christinemagnotta/pandas-challenge/HeroesOfPymoli/purchase_data.csv'\n",
    "pymoliHero = pd.read_csv(newfile)\n",
    "\n",
    "pymoliHero = pd.DataFrame(data=pymoliHero) #this is creating a new dataframe class,\n",
    "\n",
    "pymoliUnique = pymoliHero.drop_duplicates()\n",
    "average_item_price = pymoliHero[\"Price\"].mean()\n",
    "total_purchase_value = pymoliHero[\"Price\"].sum()\n",
    "purchase_count = pymoliHero[\"Price\"].count()"
   ]
  },
  {
   "cell_type": "code",
   "execution_count": null,
   "metadata": {},
   "outputs": [],
   "source": [
    "pymoliUnique    #this should get me the number of unique items, without duplicates."
   ]
  },
  {
   "cell_type": "code",
   "execution_count": null,
   "metadata": {},
   "outputs": [],
   "source": [
    "average_item_price = pymoliHero[\"Price\"].mean()"
   ]
  },
  {
   "cell_type": "code",
   "execution_count": null,
   "metadata": {},
   "outputs": [],
   "source": [
    "average_item_price   #average price"
   ]
  },
  {
   "cell_type": "code",
   "execution_count": null,
   "metadata": {},
   "outputs": [],
   "source": [
    "total_purchase_value"
   ]
  },
  {
   "cell_type": "code",
   "execution_count": null,
   "metadata": {},
   "outputs": [],
   "source": [
    "purchase_count"
   ]
  },
  {
   "cell_type": "code",
   "execution_count": null,
   "metadata": {},
   "outputs": [],
   "source": [
    "#Ooops. Forgot to get the total number of players. I will count by SN\n",
    "\n",
    "total_players = pymoliHero[\"SN\"].count()"
   ]
  },
  {
   "cell_type": "code",
   "execution_count": null,
   "metadata": {},
   "outputs": [],
   "source": [
    "total_players"
   ]
  },
  {
   "cell_type": "code",
   "execution_count": null,
   "metadata": {},
   "outputs": [],
   "source": [
    "#just for my own piece of mind, I am going to see if there are any duplicate players.\n",
    "total_players2 = pymoliHero[\"SN\"].drop_duplicates()"
   ]
  },
  {
   "cell_type": "code",
   "execution_count": null,
   "metadata": {},
   "outputs": [],
   "source": [
    "total_players2.count"
   ]
  },
  {
   "cell_type": "code",
   "execution_count": null,
   "metadata": {},
   "outputs": [],
   "source": [
    "#Hey! There were duplicates! The total number of players was 576."
   ]
  },
  {
   "cell_type": "code",
   "execution_count": null,
   "metadata": {},
   "outputs": [],
   "source": [
    "#Gender Demographics\n",
    "\n",
    "\n",
    "pymoli_gender = pymoliHero[\"Gender\"]\n",
    "\n",
    "#playersGen = pymoliHero.loc[:, \"Gender\"]\n",
    "#playersFemale = playersGen(\"female\").count"
   ]
  },
  {
   "cell_type": "code",
   "execution_count": null,
   "metadata": {},
   "outputs": [],
   "source": [
    "pymoli_gender   #just checking that I am getting the data by gender"
   ]
  },
  {
   "cell_type": "code",
   "execution_count": null,
   "metadata": {},
   "outputs": [],
   "source": [
    "pymoli_gender.mode()"
   ]
  },
  {
   "cell_type": "code",
   "execution_count": null,
   "metadata": {},
   "outputs": [],
   "source": [
    "pymoli_male_count = pymoli_gender.str.count(\"Male\").sum() #.words.str.count(\"he|wo\")  That is what I found from stackoverlow. That got me an error. Took out \"words\" and that worked."
   ]
  },
  {
   "cell_type": "code",
   "execution_count": null,
   "metadata": {},
   "outputs": [],
   "source": [
    "pymoli_male_count"
   ]
  },
  {
   "cell_type": "code",
   "execution_count": null,
   "metadata": {},
   "outputs": [],
   "source": [
    "#Yay! Males make up 652 of the users...but...oops! There are 576 unique SNs. Blerg. Try again, with drop_duplicates."
   ]
  },
  {
   "cell_type": "code",
   "execution_count": null,
   "metadata": {},
   "outputs": [],
   "source": [
    "pymoli_gender = total_players2[\"Gender\"]\n",
    "pymoli_male_count = pymoli_gender.str.count(\"Male\").sum()   #I tried to use the dropped duplicate variable but it didn't work because I didn't have Gender anymore."
   ]
  },
  {
   "cell_type": "code",
   "execution_count": null,
   "metadata": {},
   "outputs": [],
   "source": [
    "pymoli_gender = pymoliHero[\"Gender\"]\n",
    "unique_pymoli_gender = pymoli_gender.drop_duplicates"
   ]
  },
  {
   "cell_type": "code",
   "execution_count": null,
   "metadata": {},
   "outputs": [],
   "source": [
    "pymoli_male_count = unique_pymoli_gender.str.count(\"Male\").sum()   #unique_pymoli_gender. i got an error on this, but then I realized I cant do it this way anyway. "
   ]
  },
  {
   "cell_type": "code",
   "execution_count": null,
   "metadata": {},
   "outputs": [],
   "source": [
    "pymoli_male_count"
   ]
  },
  {
   "cell_type": "code",
   "execution_count": null,
   "metadata": {},
   "outputs": [],
   "source": [
    "pymoli_gender = pymoliHero[\"Gender\", \"SN\"]\n",
    "unique_pymoli_gender = pymoli_gender.drop_duplicates"
   ]
  },
  {
   "cell_type": "code",
   "execution_count": null,
   "metadata": {},
   "outputs": [],
   "source": [
    "gender_players2 = pymoliHero[\"SN\", \"Gender\"].drop_duplicates()\n",
    "\n",
    "#total_players2 = pymoliHero[\"SN\"].drop_duplicates() Okay, let's try again"
   ]
  },
  {
   "cell_type": "code",
   "execution_count": null,
   "metadata": {},
   "outputs": [],
   "source": [
    "#Gender Demographics, Part Deux.\n",
    "#I'm going to try to reset the data.\n",
    "\n",
    "import pandas as pd\n",
    "\n",
    "newfile = '/Users/christinemagnotta/pandas-challenge/HeroesOfPymoli/purchase_data.csv'\n",
    "pymoliHero = pd.read_csv(newfile)\n",
    "\n",
    "pymoliGenderData = pd.DataFrame(data=pymoliHero)"
   ]
  },
  {
   "cell_type": "code",
   "execution_count": null,
   "metadata": {},
   "outputs": [],
   "source": [
    "pymoliGenderData.head(10)"
   ]
  },
  {
   "cell_type": "code",
   "execution_count": null,
   "metadata": {},
   "outputs": [],
   "source": [
    "gender_purchase = pymoliGenderData.groupby([\"Gender\", \"SN\"]).sum()[\"Price\"]"
   ]
  },
  {
   "cell_type": "code",
   "execution_count": null,
   "metadata": {},
   "outputs": [],
   "source": [
    "male_purchase = gender_purchase[(\"Male\")].unique"
   ]
  },
  {
   "cell_type": "code",
   "execution_count": null,
   "metadata": {},
   "outputs": [],
   "source": [
    "male_purchase"
   ]
  },
  {
   "cell_type": "code",
   "execution_count": null,
   "metadata": {},
   "outputs": [],
   "source": [
    "female_purchase = gender_purchase[(\"Female\")].unique"
   ]
  },
  {
   "cell_type": "code",
   "execution_count": null,
   "metadata": {},
   "outputs": [],
   "source": [
    "female_purchase #484 Males + 81 Females. There are 576 unique users so I am hoping I get 11 Other / Non-Disclosed"
   ]
  },
  {
   "cell_type": "code",
   "execution_count": null,
   "metadata": {},
   "outputs": [],
   "source": [
    "other_purchase = gender_purchase[(\"Other / Non-Disclosed\")].unique"
   ]
  },
  {
   "cell_type": "code",
   "execution_count": null,
   "metadata": {},
   "outputs": [],
   "source": [
    "other_purchase   #wooohooo! I did it! "
   ]
  },
  {
   "cell_type": "code",
   "execution_count": null,
   "metadata": {},
   "outputs": [],
   "source": [
    "gender_purchase.describe"
   ]
  },
  {
   "cell_type": "markdown",
   "metadata": {},
   "source": [
    "#gender purchase\n",
    "\n",
    "gender_percentage = (female_purchase/576),(other_purchase/576),(male_purchase/576)"
   ]
  },
  {
   "cell_type": "code",
   "execution_count": null,
   "metadata": {},
   "outputs": [],
   "source": [
    "#gender percentage\n",
    "\n",
    "female_purchase.sum/576\n"
   ]
  },
  {
   "cell_type": "code",
   "execution_count": null,
   "metadata": {},
   "outputs": [],
   "source": []
  },
  {
   "cell_type": "code",
   "execution_count": null,
   "metadata": {},
   "outputs": [],
   "source": [
    "other_percentage"
   ]
  },
  {
   "cell_type": "code",
   "execution_count": null,
   "metadata": {},
   "outputs": [],
   "source": [
    "#Okay, I seem to have lost everything. This is annoying.\n",
    "\n",
    "#Gender Demographics, Part Trois.\n",
    "#I'm going to try to re-reset the data.\n",
    "\n",
    "import pandas as pd\n",
    "\n",
    "newfile = '/Users/christinemagnotta/pandas-challenge/HeroesOfPymoli/purchase_data.csv'\n",
    "pymoliHero = pd.read_csv(newfile)\n",
    "\n",
    "pymoliGenderData = pd.DataFrame(data=pymoliHero)\n",
    "pymoliGenderData.head(10)"
   ]
  },
  {
   "cell_type": "code",
   "execution_count": null,
   "metadata": {},
   "outputs": [],
   "source": [
    "gender_purchase = pymoliGenderData.groupby([\"Gender\", \"SN\"]).sum()[\"Price\"]\n",
    "male_purchase = gender_purchase[(\"Male\")].unique\n",
    "female_purchase = gender_purchase[(\"Female\")].unique\n",
    "other_purchase = gender_purchase[(\"Other / Non-Disclosed\")].unique\n"
   ]
  },
  {
   "cell_type": "code",
   "execution_count": null,
   "metadata": {},
   "outputs": [],
   "source": [
    "male_purchase"
   ]
  },
  {
   "cell_type": "code",
   "execution_count": null,
   "metadata": {},
   "outputs": [],
   "source": [
    "female_purchase"
   ]
  },
  {
   "cell_type": "code",
   "execution_count": null,
   "metadata": {},
   "outputs": [],
   "source": [
    "other_purchase\n"
   ]
  },
  {
   "cell_type": "code",
   "execution_count": null,
   "metadata": {},
   "outputs": [],
   "source": [
    "other_purchase.count"
   ]
  },
  {
   "cell_type": "code",
   "execution_count": null,
   "metadata": {},
   "outputs": [],
   "source": [
    "pymoliGenderData.describe()"
   ]
  },
  {
   "cell_type": "code",
   "execution_count": null,
   "metadata": {},
   "outputs": [],
   "source": [
    "#Male = 484/576 = 84%\n",
    "#Female = 81/576 = 14%\n",
    "#Other = 11/576 = 2%\n",
    "#this is cheating. but I did try several ways to get the percentage and I felt like I had gotten to the point where I needed to move on.\n",
    "\n",
    "\n"
   ]
  },
  {
   "cell_type": "code",
   "execution_count": null,
   "metadata": {},
   "outputs": [],
   "source": [
    "####Gender Purchase Analysis\n",
    "\n",
    "\n",
    "import pandas as pd\n",
    "\n",
    "newfile = '/Users/christinemagnotta/pandas-challenge/HeroesOfPymoli/purchase_data.csv'\n",
    "pymoliHero = pd.read_csv(newfile)\n",
    "\n",
    "pymoliGenderAnalysis = pd.DataFrame(data=pymoliHero)\n",
    "pymoliGenderAnalysis.head(10)\n",
    "\n",
    "\n",
    "\n",
    "#Assignment -- The below each broken by gender\n",
    "\n",
    "#Purchase Count\n",
    "#Average Purchase Price\n",
    "#Total Purchase Value\n",
    "#Average Purchase Total per Person by Gender\n",
    "\n",
    "\n"
   ]
  },
  {
   "cell_type": "code",
   "execution_count": null,
   "metadata": {},
   "outputs": [],
   "source": [
    "gender_purchase_total = pymoliGenderAnalysis.groupby([\"Gender\"]).sum()[\"Price\"]\n"
   ]
  },
  {
   "cell_type": "code",
   "execution_count": null,
   "metadata": {},
   "outputs": [],
   "source": [
    "gender_purchase_total   #Total purchases by gender"
   ]
  },
  {
   "cell_type": "code",
   "execution_count": null,
   "metadata": {},
   "outputs": [],
   "source": [
    "gender_item_purchase = pymoliGenderAnalysis.groupby([\"Gender\"]).sum()[\"Item ID\"]\n"
   ]
  },
  {
   "cell_type": "code",
   "execution_count": null,
   "metadata": {},
   "outputs": [],
   "source": [
    "gender_item_purchase   #ooops. this is adding up the item IS. which isn't counting the # of items"
   ]
  },
  {
   "cell_type": "code",
   "execution_count": null,
   "metadata": {},
   "outputs": [],
   "source": [
    "gender_item_purchase = pymoliGenderAnalysis.groupby([\"Gender\"]).count()[\"Item ID\"]"
   ]
  },
  {
   "cell_type": "code",
   "execution_count": null,
   "metadata": {},
   "outputs": [],
   "source": [
    "gender_item_purchase #total iteams per gender"
   ]
  },
  {
   "cell_type": "code",
   "execution_count": null,
   "metadata": {},
   "outputs": [],
   "source": [
    "#WOOOO! That makes a lot more sense."
   ]
  },
  {
   "cell_type": "code",
   "execution_count": null,
   "metadata": {},
   "outputs": [],
   "source": [
    "gender_purchase_average = pymoliGenderAnalysis.groupby([\"Gender\"]).mean()[\"Price\"]"
   ]
  },
  {
   "cell_type": "code",
   "execution_count": null,
   "metadata": {},
   "outputs": [],
   "source": [
    "gender_purchase_average   #average purchase price by gender."
   ]
  },
  {
   "cell_type": "code",
   "execution_count": null,
   "metadata": {},
   "outputs": [],
   "source": [
    "gender_unique = pymoliGenderAnalysis.groupby([\"Gender\", \"SN\"]).mean()[\"Price\"]"
   ]
  },
  {
   "cell_type": "code",
   "execution_count": null,
   "metadata": {},
   "outputs": [],
   "source": [
    "gender_unique"
   ]
  },
  {
   "cell_type": "code",
   "execution_count": null,
   "metadata": {},
   "outputs": [],
   "source": [
    "#Average Purchase Total per Person by Gender\n",
    "#Okay, I want to find the average -- or mean -- of the purcahse per person or SN by gender.\n",
    "#Do I want to groupby gender and then mean price then divide by SN???\n",
    "\n",
    "#Let's see."
   ]
  },
  {
   "cell_type": "code",
   "execution_count": null,
   "metadata": {},
   "outputs": [],
   "source": [
    "average_gender = pymoliGenderAnalysis.groupby([\"Gender\"]).mean()[\"Price\"]/\"SN\""
   ]
  },
  {
   "cell_type": "code",
   "execution_count": null,
   "metadata": {},
   "outputs": [],
   "source": [
    "#Well, that was silly. You can divide string.\n",
    "\n",
    "\n",
    "gender_item_purchase = pymoliGenderAnalysis.groupby([\"Gender\"]).count()[\"Item ID\"].mean()[\"Price\"]"
   ]
  },
  {
   "cell_type": "code",
   "execution_count": null,
   "metadata": {},
   "outputs": [],
   "source": []
  }
 ],
 "metadata": {
  "kernelspec": {
   "display_name": "Python 3",
   "language": "python",
   "name": "python3"
  },
  "language_info": {
   "codemirror_mode": {
    "name": "ipython",
    "version": 3
   },
   "file_extension": ".py",
   "mimetype": "text/x-python",
   "name": "python",
   "nbconvert_exporter": "python",
   "pygments_lexer": "ipython3",
   "version": "3.8.3"
  }
 },
 "nbformat": 4,
 "nbformat_minor": 4
}
